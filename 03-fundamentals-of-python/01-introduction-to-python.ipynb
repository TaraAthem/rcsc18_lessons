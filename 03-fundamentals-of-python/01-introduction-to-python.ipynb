{
 "cells": [
  {
   "cell_type": "markdown",
   "metadata": {},
   "source": [
    "# An Introduction to Python"
   ]
  },
  {
   "cell_type": "markdown",
   "metadata": {},
   "source": [
    "In this lesson we will learn how to work with arthritis inflammation datasets in Python. However,\n",
    "before we discuss how to deal with many data points, let's learn how to work with\n",
    "single data values."
   ]
  },
  {
   "cell_type": "markdown",
   "metadata": {},
   "source": [
    "## Variables\n",
    "\n",
    "Any Python interpreter can be used as a calculator:"
   ]
  },
  {
   "cell_type": "code",
   "execution_count": 5,
   "metadata": {},
   "outputs": [
    {
     "name": "stdout",
     "output_type": "stream",
     "text": [
      "AHH!!!!!!!!!!\n"
     ]
    }
   ],
   "source": [
    "print (\"AHH!!!!!!!!!!\")\n",
    "\n"
   ]
  },
  {
   "cell_type": "markdown",
   "metadata": {},
   "source": [
    "This is great but not very interesting. To do anything useful with data, we need\n",
    "to assign its value to a _variable_. In Python, we can assign a value to a\n",
    "variable, using the equals sign `=`. For example, to assign value `60` to a\n",
    "variable `weight_kg`, we would execute:"
   ]
  },
  {
   "cell_type": "code",
   "execution_count": 10,
   "metadata": {},
   "outputs": [
    {
     "name": "stdout",
     "output_type": "stream",
     "text": [
      "500.0\n"
     ]
    }
   ],
   "source": [
    "weight_kg=500.0\n",
    "print (weight_kg)"
   ]
  },
  {
   "cell_type": "markdown",
   "metadata": {},
   "source": [
    "From now on, whenever we use `weight_kg`, Python will substitute the value we assigned to\n",
    "it. In essence, **a variable is just a name for a value**.\n",
    "In Python, variable names:\n",
    "\n",
    " - can include letters, digits, and underscores\n",
    " - cannot start with a digit\n",
    " - are case sensitive.\n",
    "\n",
    "This means that, for example:\n",
    " - `weight0` is a valid variable name, whereas `0weight` is not\n",
    " - `weight` and `Weight` are different variables\n"
   ]
  },
  {
   "cell_type": "markdown",
   "metadata": {},
   "source": [
    "## Types of data\n",
    "\n",
    "Python knows various types of data. Three common ones are:\n",
    "\n",
    "* integer numbers\n",
    "* floating point numbers, and\n",
    "* strings.\n",
    "\n",
    "In the example above, variable `weight_kg` has an integer value of `60`.\n",
    "To create a variable with a floating point value, we can execute:"
   ]
  },
  {
   "cell_type": "code",
   "execution_count": 11,
   "metadata": {},
   "outputs": [],
   "source": [
    "weight_text=\"Weight in kilos\""
   ]
  },
  {
   "cell_type": "markdown",
   "metadata": {},
   "source": [
    "And to create a string we simply have to add single or double quotes around some text, for example:"
   ]
  },
  {
   "cell_type": "code",
   "execution_count": null,
   "metadata": {},
   "outputs": [],
   "source": []
  },
  {
   "cell_type": "markdown",
   "metadata": {},
   "source": [
    "## Using Variables in Python\n",
    "To display the value of a variable to the screen in Python, we can use the `print` function:"
   ]
  },
  {
   "cell_type": "code",
   "execution_count": 12,
   "metadata": {},
   "outputs": [
    {
     "name": "stdout",
     "output_type": "stream",
     "text": [
      "Weight in kilos 500.0\n"
     ]
    }
   ],
   "source": [
    "print(weight_text,weight_kg)"
   ]
  },
  {
   "cell_type": "markdown",
   "metadata": {},
   "source": [
    "We can display multiple things at once using only one `print` command:"
   ]
  },
  {
   "cell_type": "code",
   "execution_count": null,
   "metadata": {},
   "outputs": [],
   "source": []
  },
  {
   "cell_type": "markdown",
   "metadata": {},
   "source": [
    "Moreover, we can do arithmetics with variables right inside the `print` function:"
   ]
  },
  {
   "cell_type": "code",
   "execution_count": 13,
   "metadata": {},
   "outputs": [
    {
     "name": "stdout",
     "output_type": "stream",
     "text": [
      "33717500.0\n"
     ]
    }
   ],
   "source": [
    "print(weight_kg*67435.0)"
   ]
  },
  {
   "cell_type": "markdown",
   "metadata": {},
   "source": [
    "The above command, however, did not change the value of `weight_kg`:"
   ]
  },
  {
   "cell_type": "code",
   "execution_count": null,
   "metadata": {},
   "outputs": [],
   "source": []
  },
  {
   "cell_type": "markdown",
   "metadata": {},
   "source": [
    "To change the value of the `weight_kg` variable, we have to\n",
    "**assign** `weight_kg` a new value using the equals `=` sign:"
   ]
  },
  {
   "cell_type": "code",
   "execution_count": 15,
   "metadata": {},
   "outputs": [],
   "source": [
    "weight_kg=607"
   ]
  },
  {
   "cell_type": "markdown",
   "metadata": {},
   "source": [
    "## Variables as Sticky Notes\n",
    "A variable is analogous to a sticky note with a name written on it:\n",
    "assigning a value to a variable is like putting that sticky note on a particular value.\n",
    "![Variables as Sticky Notes](./python-sticky-note-variables-01.svg)\n",
    "\n",
    "This means that assigning a value to one variable does **not** change the values of other variables.\n",
    "For example, let's store the subject's weight in pounds in its own variable:\n"
   ]
  },
  {
   "cell_type": "code",
   "execution_count": null,
   "metadata": {},
   "outputs": [],
   "source": []
  },
  {
   "cell_type": "markdown",
   "metadata": {},
   "source": [
    "\n",
    "![Creating Another Variable](./python-sticky-note-variables-02.svg)\n",
    "Let's now change `weight_kg`:\n"
   ]
  },
  {
   "cell_type": "code",
   "execution_count": null,
   "metadata": {},
   "outputs": [],
   "source": []
  },
  {
   "cell_type": "markdown",
   "metadata": {},
   "source": [
    "![Updating a Variable](./python-sticky-note-variables-03.svg)\n",
    "\n",
    "Since `weight_lb` doesn't remember where its value came from,\n",
    "it isn't automatically updated when `weight_kg` changes."
   ]
  },
  {
   "cell_type": "markdown",
   "metadata": {},
   "source": [
    "Words are useful, but what's more useful are the sentences and stories we build\n",
    "with them. Similarly, while a lot of powerful, general tools are built into\n",
    "languages like Python, specialized tools built up from these basic units live in\n",
    "libraries that can be called upon when needed."
   ]
  },
  {
   "cell_type": "markdown",
   "metadata": {},
   "source": [
    "## Loading data into Python\n",
    "\n",
    "In order to load our inflammation data, we need to access\n",
    "(import in Python terminology) a library called\n",
    "[NumPy](http://docs.scipy.org/doc/numpy/ \"NumPy Documentation\").  In general you should use this\n",
    "library if you want to do fancy things with numbers, especially if you have matrices or arrays.  We\n",
    "can import NumPy using:"
   ]
  },
  {
   "cell_type": "code",
   "execution_count": 24,
   "metadata": {},
   "outputs": [],
   "source": [
    "import numpy"
   ]
  },
  {
   "cell_type": "markdown",
   "metadata": {},
   "source": [
    "Importing a library is like getting a piece of lab equipment out of a storage locker and setting it\n",
    "up on the bench. Libraries provide additional functionality to the basic Python package, much like\n",
    "a new piece of equipment adds functionality to a lab space. Just like in the lab, importing too\n",
    "many libraries can sometimes complicate and slow down your programs - so we only import what we\n",
    "need for each program. Once we've imported the library, we can ask the library to read our data\n",
    "file for us:"
   ]
  },
  {
   "cell_type": "code",
   "execution_count": null,
   "metadata": {},
   "outputs": [],
   "source": []
  },
  {
   "cell_type": "markdown",
   "metadata": {},
   "source": [
    "The expression `numpy.loadtxt(...)` is a function call that asks Python to run\n",
    "the function `loadtxt` which belongs to the `numpy` library. This dotted\n",
    "notation is used everywhere in Python: the thing that appears before the dot\n",
    "contains the thing that appears after.\n",
    "\n",
    "As an example, John Smith is the John that belongs to the Smith family. We could\n",
    "use the dot notation to write his name `smith.john`, just as `loadtxt` is a\n",
    "function that belongs to the `numpy` library.\n",
    "\n",
    "`numpy.loadtxt` has two parameters: the name of the file we want to read and the\n",
    "delimiter that separates values on a line. These both need to be character\n",
    "strings (or strings for short), so we put them in quotes.\n",
    "\n",
    "Since we haven't told it to do anything else with the function's output,\n",
    "the notebook displays it.\n",
    "In this case,\n",
    "that output is the data we just loaded.\n",
    "By default,\n",
    "only a few rows and columns are shown\n",
    "(with `...` to omit elements when displaying big arrays). To save space, Python\n",
    "displays numbers as `1.` instead of `1.0`\n",
    "when there's nothing interesting after the decimal point.\n",
    "\n",
    "Our call to `numpy.loadtxt` read our file\n",
    "but didn't save the data in memory.\n",
    "To do that,\n",
    "we need to assign the array to a variable. Just as we can assign a single value to a variable, we\n",
    "can also assign an array of values to a variable using the same syntax.  Let's re-run\n",
    "`numpy.loadtxt` and save the returned data:"
   ]
  },
  {
   "cell_type": "code",
   "execution_count": 26,
   "metadata": {},
   "outputs": [
    {
     "name": "stderr",
     "output_type": "stream",
     "text": [
      "'ls' is not recognized as an internal or external command,\n",
      "operable program or batch file.\n"
     ]
    }
   ],
   "source": [
    "!l"
   ]
  },
  {
   "cell_type": "code",
   "execution_count": 25,
   "metadata": {},
   "outputs": [
    {
     "ename": "OSError",
     "evalue": "inflammation-01.csv not found.",
     "output_type": "error",
     "traceback": [
      "\u001b[1;31m---------------------------------------------------------------------------\u001b[0m",
      "\u001b[1;31mOSError\u001b[0m                                   Traceback (most recent call last)",
      "\u001b[1;32m<ipython-input-25-5be9e280fdb6>\u001b[0m in \u001b[0;36m<module>\u001b[1;34m()\u001b[0m\n\u001b[1;32m----> 1\u001b[1;33m \u001b[0mnumpy\u001b[0m\u001b[1;33m.\u001b[0m\u001b[0mloadtxt\u001b[0m\u001b[1;33m(\u001b[0m\u001b[1;34m\"inflammation-01.csv\"\u001b[0m\u001b[1;33m,\u001b[0m \u001b[0mdelimiter\u001b[0m\u001b[1;33m=\u001b[0m\u001b[1;34m\",\"\u001b[0m\u001b[1;33m)\u001b[0m\u001b[1;33m\u001b[0m\u001b[0m\n\u001b[0m",
      "\u001b[1;32m~\\Anaconda3\\lib\\site-packages\\numpy\\lib\\npyio.py\u001b[0m in \u001b[0;36mloadtxt\u001b[1;34m(fname, dtype, comments, delimiter, converters, skiprows, usecols, unpack, ndmin, encoding)\u001b[0m\n\u001b[0;32m    915\u001b[0m             \u001b[0mfname\u001b[0m \u001b[1;33m=\u001b[0m \u001b[0mstr\u001b[0m\u001b[1;33m(\u001b[0m\u001b[0mfname\u001b[0m\u001b[1;33m)\u001b[0m\u001b[1;33m\u001b[0m\u001b[0m\n\u001b[0;32m    916\u001b[0m         \u001b[1;32mif\u001b[0m \u001b[0m_is_string_like\u001b[0m\u001b[1;33m(\u001b[0m\u001b[0mfname\u001b[0m\u001b[1;33m)\u001b[0m\u001b[1;33m:\u001b[0m\u001b[1;33m\u001b[0m\u001b[0m\n\u001b[1;32m--> 917\u001b[1;33m             \u001b[0mfh\u001b[0m \u001b[1;33m=\u001b[0m \u001b[0mnp\u001b[0m\u001b[1;33m.\u001b[0m\u001b[0mlib\u001b[0m\u001b[1;33m.\u001b[0m\u001b[0m_datasource\u001b[0m\u001b[1;33m.\u001b[0m\u001b[0mopen\u001b[0m\u001b[1;33m(\u001b[0m\u001b[0mfname\u001b[0m\u001b[1;33m,\u001b[0m \u001b[1;34m'rt'\u001b[0m\u001b[1;33m,\u001b[0m \u001b[0mencoding\u001b[0m\u001b[1;33m=\u001b[0m\u001b[0mencoding\u001b[0m\u001b[1;33m)\u001b[0m\u001b[1;33m\u001b[0m\u001b[0m\n\u001b[0m\u001b[0;32m    918\u001b[0m             \u001b[0mfencoding\u001b[0m \u001b[1;33m=\u001b[0m \u001b[0mgetattr\u001b[0m\u001b[1;33m(\u001b[0m\u001b[0mfh\u001b[0m\u001b[1;33m,\u001b[0m \u001b[1;34m'encoding'\u001b[0m\u001b[1;33m,\u001b[0m \u001b[1;34m'latin1'\u001b[0m\u001b[1;33m)\u001b[0m\u001b[1;33m\u001b[0m\u001b[0m\n\u001b[0;32m    919\u001b[0m             \u001b[0mfh\u001b[0m \u001b[1;33m=\u001b[0m \u001b[0miter\u001b[0m\u001b[1;33m(\u001b[0m\u001b[0mfh\u001b[0m\u001b[1;33m)\u001b[0m\u001b[1;33m\u001b[0m\u001b[0m\n",
      "\u001b[1;32m~\\Anaconda3\\lib\\site-packages\\numpy\\lib\\_datasource.py\u001b[0m in \u001b[0;36mopen\u001b[1;34m(path, mode, destpath, encoding, newline)\u001b[0m\n\u001b[0;32m    258\u001b[0m \u001b[1;33m\u001b[0m\u001b[0m\n\u001b[0;32m    259\u001b[0m     \u001b[0mds\u001b[0m \u001b[1;33m=\u001b[0m \u001b[0mDataSource\u001b[0m\u001b[1;33m(\u001b[0m\u001b[0mdestpath\u001b[0m\u001b[1;33m)\u001b[0m\u001b[1;33m\u001b[0m\u001b[0m\n\u001b[1;32m--> 260\u001b[1;33m     \u001b[1;32mreturn\u001b[0m \u001b[0mds\u001b[0m\u001b[1;33m.\u001b[0m\u001b[0mopen\u001b[0m\u001b[1;33m(\u001b[0m\u001b[0mpath\u001b[0m\u001b[1;33m,\u001b[0m \u001b[0mmode\u001b[0m\u001b[1;33m,\u001b[0m \u001b[0mencoding\u001b[0m\u001b[1;33m=\u001b[0m\u001b[0mencoding\u001b[0m\u001b[1;33m,\u001b[0m \u001b[0mnewline\u001b[0m\u001b[1;33m=\u001b[0m\u001b[0mnewline\u001b[0m\u001b[1;33m)\u001b[0m\u001b[1;33m\u001b[0m\u001b[0m\n\u001b[0m\u001b[0;32m    261\u001b[0m \u001b[1;33m\u001b[0m\u001b[0m\n\u001b[0;32m    262\u001b[0m \u001b[1;33m\u001b[0m\u001b[0m\n",
      "\u001b[1;32m~\\Anaconda3\\lib\\site-packages\\numpy\\lib\\_datasource.py\u001b[0m in \u001b[0;36mopen\u001b[1;34m(self, path, mode, encoding, newline)\u001b[0m\n\u001b[0;32m    614\u001b[0m                                       encoding=encoding, newline=newline)\n\u001b[0;32m    615\u001b[0m         \u001b[1;32melse\u001b[0m\u001b[1;33m:\u001b[0m\u001b[1;33m\u001b[0m\u001b[0m\n\u001b[1;32m--> 616\u001b[1;33m             \u001b[1;32mraise\u001b[0m \u001b[0mIOError\u001b[0m\u001b[1;33m(\u001b[0m\u001b[1;34m\"%s not found.\"\u001b[0m \u001b[1;33m%\u001b[0m \u001b[0mpath\u001b[0m\u001b[1;33m)\u001b[0m\u001b[1;33m\u001b[0m\u001b[0m\n\u001b[0m\u001b[0;32m    617\u001b[0m \u001b[1;33m\u001b[0m\u001b[0m\n\u001b[0;32m    618\u001b[0m \u001b[1;33m\u001b[0m\u001b[0m\n",
      "\u001b[1;31mOSError\u001b[0m: inflammation-01.csv not found."
     ]
    }
   ],
   "source": [
    "numpy.loadtxt(\"inflammation-01.csv\", delimiter=\",\")"
   ]
  },
  {
   "cell_type": "markdown",
   "metadata": {},
   "source": [
    "If we want to check that the data have been loaded,\n",
    "we can print the variable's value:"
   ]
  },
  {
   "cell_type": "code",
   "execution_count": null,
   "metadata": {},
   "outputs": [],
   "source": []
  },
  {
   "cell_type": "markdown",
   "metadata": {},
   "source": [
    "Now that the data are in memory,\n",
    "we can manipulate them.\n",
    "First,\n",
    "let's ask what type of thing `data` refers to:"
   ]
  },
  {
   "cell_type": "code",
   "execution_count": null,
   "metadata": {},
   "outputs": [],
   "source": []
  },
  {
   "cell_type": "markdown",
   "metadata": {},
   "source": [
    "The output tells us that `data` currently refers to\n",
    "an N-dimensional array, the functionality for which is provided by the NumPy library.\n",
    "These data correspond to arthritis patients' inflammation.\n",
    "The rows are the individual patients, and the columns\n",
    "are their daily inflammation measurements."
   ]
  },
  {
   "cell_type": "markdown",
   "metadata": {},
   "source": [
    "\n",
    "<section class=\"callout panel panel-warning\">\n",
    "<div class=\"panel-heading\">\n",
    "<h2><span class=\"fa fa-thumb-tack\"></span> Data Type</h2>\n",
    "</div>\n",
    "\n",
    "\n",
    "<div class=\"panel-body\">\n",
    "\n",
    "<p>A Numpy array contains one or more elements\n",
    "of the same type. The <code>type</code> function will only tell you that\n",
    "a variable is a NumPy array but won't tell you the type of\n",
    "thing inside the array.\n",
    "We can find out the type\n",
    "of the data contained in the NumPy array.</p>\n",
    "<div class=\"codehilite\"><pre><span></span><span class=\"k\">print</span><span class=\"p\">(</span><span class=\"n\">data</span><span class=\"o\">.</span><span class=\"n\">dtype</span><span class=\"p\">)</span>\n",
    "</pre></div>\n",
    "\n",
    "\n",
    "<div class=\"codehilite\"><pre><span></span>dtype(&#39;float64&#39;)\n",
    "</pre></div>\n",
    "\n",
    "\n",
    "<p>This tells us that the NumPy array's elements are\n",
    "floating-point numbers.</p>\n",
    "\n",
    "</div>\n",
    "\n",
    "</section>\n"
   ]
  },
  {
   "cell_type": "markdown",
   "metadata": {},
   "source": [
    "With the following command, we can see the array's shape:"
   ]
  },
  {
   "cell_type": "code",
   "execution_count": null,
   "metadata": {},
   "outputs": [],
   "source": []
  },
  {
   "cell_type": "markdown",
   "metadata": {},
   "source": [
    "The output tells us that the `data` array variable contains 60 rows and 40 columns. When we\n",
    "created the variable `data` to store our arthritis data, we didn't just create the array; we also\n",
    "created information about the array, called members or\n",
    "attributes. This extra information describes `data` in the same way an adjective describes a noun.\n",
    "`data.shape` is an attribute of `data` which describes the dimensions of `data`. We use the same\n",
    "dotted notation for the attributes of variables that we use for the functions in libraries because\n",
    "they have the same part-and-whole relationship.\n",
    "\n",
    "If we want to get a single number from the array, we must provide an\n",
    "index in square brackets after the variable name, just as we\n",
    "do in math when referring to an element of a matrix.  Our inflammation data has two dimensions, so\n",
    "we will need to use two indices to refer to one specific value:"
   ]
  },
  {
   "cell_type": "code",
   "execution_count": null,
   "metadata": {},
   "outputs": [],
   "source": []
  },
  {
   "cell_type": "code",
   "execution_count": null,
   "metadata": {},
   "outputs": [],
   "source": []
  },
  {
   "cell_type": "code",
   "execution_count": null,
   "metadata": {},
   "outputs": [],
   "source": []
  },
  {
   "cell_type": "markdown",
   "metadata": {},
   "source": [
    "The expression `data[30, 20]` accesses the element at row 30, column 20. While this expression may\n",
    "not surprise you,\n",
    " `data[0, 0]` might.\n",
    "Programming languages like Fortran, MATLAB and R start counting at 1\n",
    "because that's what human beings have done for thousands of years.\n",
    "Languages in the C family (including C++, Java, Perl, and Python) count from 0\n",
    "because it represents an offset from the first value in the array (the second\n",
    "value is offset by one index from the first value). This is closer to the way\n",
    "that computers represent arrays (if you are interested in the historical\n",
    "reasons behind counting indices from zero, you can read\n",
    "[Mike Hoye's blog post](http://exple.tive.org/blarg/2013/10/22/citation-needed/)).\n",
    "As a result,\n",
    "if we have an M×N array in Python,\n",
    "its indices go from 0 to M-1 on the first axis\n",
    "and 0 to N-1 on the second.\n",
    "It takes a bit of getting used to,\n",
    "but one way to remember the rule is that\n",
    "the index is how many steps we have to take from the start to get the item we want.\n",
    "\n",
    "![Zero Index](./python-zero-index.png)"
   ]
  },
  {
   "cell_type": "markdown",
   "metadata": {},
   "source": [
    "## In the Corner\n",
    "\n",
    "What may also surprise you is that when Python displays an array,\n",
    "it shows the element with index `[0, 0]` in the upper left corner\n",
    "rather than the lower left.\n",
    "This is consistent with the way mathematicians draw matrices\n",
    "but different from the Cartesian coordinates.\n",
    "The indices are (row, column) instead of (column, row) for the same reason,\n",
    "which can be confusing when plotting data.\n"
   ]
  },
  {
   "cell_type": "markdown",
   "metadata": {},
   "source": [
    "## Slicing data\n",
    "\n",
    "An index like `[30, 20]` selects a single element of an array,\n",
    "but we can select whole sections as well.\n",
    "For example,\n",
    "we can select the first ten days (columns) of values\n",
    "for the first four patients (rows) like this:"
   ]
  },
  {
   "cell_type": "markdown",
   "metadata": {},
   "source": [
    "The slice `0:4` means, \"Start at index 0 and go up to, but not\n",
    "including, index 4.\"Again, the up-to-but-not-including takes a bit of getting used to, but the\n",
    "rule is that the difference between the upper and lower bounds is the number of values in the slice.\n",
    "\n",
    "We don't have to start slices at 0:"
   ]
  },
  {
   "cell_type": "code",
   "execution_count": null,
   "metadata": {},
   "outputs": [],
   "source": []
  },
  {
   "cell_type": "markdown",
   "metadata": {},
   "source": [
    "We also don't have to include the upper and lower bound on the slice.  If we don't include the lower\n",
    "bound, Python uses 0 by default; if we don't include the upper, the slice runs to the end of the\n",
    "axis, and if we don't include either (i.e., if we just use ':' on its own), the slice includes\n",
    "everything:"
   ]
  },
  {
   "cell_type": "code",
   "execution_count": null,
   "metadata": {},
   "outputs": [],
   "source": []
  },
  {
   "cell_type": "markdown",
   "metadata": {},
   "source": [
    "The above example selects rows 0 through 2 and columns 36 through to the end of the array."
   ]
  },
  {
   "cell_type": "markdown",
   "metadata": {},
   "source": [
    "Arrays also know how to perform common mathematical operations on their values.  The simplest\n",
    "operations with data are arithmetic: addition, subtraction, multiplication, and division.  When you\n",
    "do such operations on arrays, the operation is done element-by-element.  Thus:"
   ]
  },
  {
   "cell_type": "code",
   "execution_count": null,
   "metadata": {},
   "outputs": [],
   "source": []
  },
  {
   "cell_type": "markdown",
   "metadata": {},
   "source": [
    "will create a new array `doubledata`\n",
    "each element of which is twice the value of the corresponding element in `data`:"
   ]
  },
  {
   "cell_type": "code",
   "execution_count": null,
   "metadata": {},
   "outputs": [],
   "source": []
  },
  {
   "cell_type": "markdown",
   "metadata": {},
   "source": [
    "If, instead of taking an array and doing arithmetic with a single value (as above), you did the\n",
    "arithmetic operation with another array of the same shape, the operation will be done on\n",
    "corresponding elements of the two arrays.  Thus:"
   ]
  },
  {
   "cell_type": "code",
   "execution_count": null,
   "metadata": {},
   "outputs": [],
   "source": []
  },
  {
   "cell_type": "markdown",
   "metadata": {},
   "source": [
    "will give you an array where `tripledata[0,0]` will equal `doubledata[0,0]` plus `data[0,0]`,\n",
    "and so on for all other elements of the arrays."
   ]
  },
  {
   "cell_type": "code",
   "execution_count": null,
   "metadata": {},
   "outputs": [],
   "source": []
  },
  {
   "cell_type": "markdown",
   "metadata": {},
   "source": [
    "Often, we want to do more than add, subtract, multiply, and divide array elements.  NumPy knows how\n",
    "to do more complex operations, too.  If we want to find the average inflammation for all patients on\n",
    "all days, for example, we can ask NumPy to compute `data`'s mean value:"
   ]
  },
  {
   "cell_type": "code",
   "execution_count": null,
   "metadata": {},
   "outputs": [],
   "source": []
  },
  {
   "cell_type": "markdown",
   "metadata": {},
   "source": [
    "`mean` is a function that takes an array as an argument."
   ]
  },
  {
   "cell_type": "markdown",
   "metadata": {},
   "source": [
    "\n",
    "<section class=\"callout panel panel-warning\">\n",
    "<div class=\"panel-heading\">\n",
    "<h2><span class=\"fa fa-thumb-tack\"></span> Not All Functions Have Input</h2>\n",
    "</div>\n",
    "\n",
    "\n",
    "<div class=\"panel-body\">\n",
    "\n",
    "<p>Generally, a function uses inputs to produce outputs.\n",
    "However, some functions produce outputs without\n",
    "needing any input. For example, checking the current time\n",
    "doesn't require any input.</p>\n",
    "<div class=\"codehilite\"><pre><span></span><span class=\"kn\">import</span> <span class=\"nn\">time</span>\n",
    "<span class=\"k\">print</span><span class=\"p\">(</span><span class=\"n\">time</span><span class=\"o\">.</span><span class=\"n\">ctime</span><span class=\"p\">())</span>\n",
    "</pre></div>\n",
    "\n",
    "\n",
    "<div class=\"codehilite\"><pre><span></span>&#39;Sat Mar 26 13:07:33 2016&#39;\n",
    "</pre></div>\n",
    "\n",
    "\n",
    "<p>For functions that don't take in any arguments,\n",
    "we still need parentheses (<code>()</code>)\n",
    "to tell Python to go and do something for us.</p>\n",
    "\n",
    "</div>\n",
    "\n",
    "</section>\n"
   ]
  },
  {
   "cell_type": "markdown",
   "metadata": {},
   "source": [
    "NumPy has lots of useful functions that take an array as input.\n",
    "Let's use three of those functions to get some descriptive values about the dataset.\n",
    "We'll also use multiple assignment,\n",
    "a convenient Python feature that will enable us to do this all in one line."
   ]
  },
  {
   "cell_type": "code",
   "execution_count": null,
   "metadata": {},
   "outputs": [],
   "source": []
  },
  {
   "cell_type": "markdown",
   "metadata": {},
   "source": [
    "Here we've assigned the return value from `numpy.max(data)` to the variable `maxval`, the value\n",
    "from `numpy.min(data)` to `minval`, and so on."
   ]
  },
  {
   "cell_type": "markdown",
   "metadata": {},
   "source": [
    "\n",
    "<section class=\"callout panel panel-warning\">\n",
    "<div class=\"panel-heading\">\n",
    "<h2><span class=\"fa fa-thumb-tack\"></span> Mystery Functions in IPython</h2>\n",
    "</div>\n",
    "\n",
    "\n",
    "<div class=\"panel-body\">\n",
    "\n",
    "<p>How did we know what functions NumPy has and how to use them?\n",
    "If you are working in the IPython/Jupyter Notebook, there is an easy way to find out.\n",
    "If you type the name of something followed by a dot, then you can use tab completion\n",
    "(e.g. type <code>numpy.</code> and then press tab)\n",
    "to see a list of all functions and attributes that you can use. After selecting one, you\n",
    "can also add a question mark (e.g. <code>numpy.cumprod?</code>), and IPython will return an\n",
    "explanation of the method! This is the same as doing <code>help(numpy.cumprod)</code>.</p>\n",
    "\n",
    "</div>\n",
    "\n",
    "</section>\n"
   ]
  },
  {
   "cell_type": "markdown",
   "metadata": {},
   "source": [
    "When analyzing data, though,\n",
    "we often want to look at variations in statistical values,\n",
    "such as the maximum inflammation per patient\n",
    "or the average inflammation per day.\n",
    "One way to do this is to create a new temporary array of the data we want,\n",
    "then ask it to do the calculation:"
   ]
  },
  {
   "cell_type": "code",
   "execution_count": null,
   "metadata": {},
   "outputs": [],
   "source": []
  },
  {
   "cell_type": "markdown",
   "metadata": {},
   "source": [
    "Everything in a line of code following the '#' symbol is a\n",
    "comment that is ignored by Python.\n",
    "Comments allow programmers to leave explanatory notes for other\n",
    "programmers or their future selves.\n",
    "\n",
    "We don't actually need to store the row in a variable of its own.\n",
    "Instead, we can combine the selection and the function call:"
   ]
  },
  {
   "cell_type": "code",
   "execution_count": null,
   "metadata": {},
   "outputs": [],
   "source": []
  },
  {
   "cell_type": "markdown",
   "metadata": {},
   "source": [
    "What if we need the maximum inflammation for each patient over all days (as in the\n",
    "next diagram on the left) or the average for each day (as in the\n",
    "diagram on the right)? As the diagram below shows, we want to perform the\n",
    "operation across an axis:\n",
    "\n",
    "![Operations Across Axes](./python-operations-across-axes.png)\n",
    "\n",
    "To support this functionality,\n",
    "most array functions allow us to specify the axis we want to work on.\n",
    "If we ask for the average across axis 0 (rows in our 2D example),\n",
    "we get:"
   ]
  },
  {
   "cell_type": "code",
   "execution_count": null,
   "metadata": {},
   "outputs": [],
   "source": []
  },
  {
   "cell_type": "markdown",
   "metadata": {},
   "source": [
    "As a quick check,\n",
    "we can ask this array what its shape is:"
   ]
  },
  {
   "cell_type": "code",
   "execution_count": null,
   "metadata": {},
   "outputs": [],
   "source": []
  },
  {
   "cell_type": "markdown",
   "metadata": {},
   "source": [
    "The expression `(40,)` tells us we have an N×1 vector,\n",
    "so this is the average inflammation per day for all patients.\n",
    "If we average across axis 1 (columns in our 2D example), we get:"
   ]
  },
  {
   "cell_type": "code",
   "execution_count": null,
   "metadata": {},
   "outputs": [],
   "source": []
  },
  {
   "cell_type": "markdown",
   "metadata": {},
   "source": [
    "which is the average inflammation per patient across all days."
   ]
  },
  {
   "cell_type": "markdown",
   "metadata": {},
   "source": [
    "## Visualizing data\n",
    "The mathematician Richard Hamming once said, \"The purpose of computing is insight, not numbers,\" and\n",
    "the best way to develop insight is often to visualize data.  Visualization deserves an entire\n",
    "lecture of its own, but we can explore a few features of Python's `matplotlib` library here.  While\n",
    "there is no official plotting library, `matplotlib` is the _de facto_ standard.  First, we will\n",
    "import the `pyplot` module from `matplotlib` and use two of its functions to create and display a\n",
    "heat map of our data:"
   ]
  },
  {
   "cell_type": "code",
   "execution_count": null,
   "metadata": {},
   "outputs": [],
   "source": []
  },
  {
   "cell_type": "code",
   "execution_count": null,
   "metadata": {},
   "outputs": [],
   "source": []
  },
  {
   "cell_type": "markdown",
   "metadata": {},
   "source": [
    "Blue pixels in this heat map represent low values, while yellow pixels represent high values.  As we\n",
    "can see, inflammation rises and falls over a 40-day period."
   ]
  },
  {
   "cell_type": "code",
   "execution_count": null,
   "metadata": {},
   "outputs": [],
   "source": []
  },
  {
   "cell_type": "markdown",
   "metadata": {},
   "source": [
    "Here, we have put the average per day across all patients in the variable `ave_inflammation`, then\n",
    "asked `matplotlib.pyplot` to create and display a line graph of those values.  The result is a\n",
    "roughly linear rise and fall, which is suspicious: we might instead expect a sharper rise and slower\n",
    "fall.  Let's have a look at two other statistics:"
   ]
  },
  {
   "cell_type": "code",
   "execution_count": null,
   "metadata": {},
   "outputs": [],
   "source": []
  },
  {
   "cell_type": "code",
   "execution_count": null,
   "metadata": {},
   "outputs": [],
   "source": []
  },
  {
   "cell_type": "markdown",
   "metadata": {},
   "source": [
    "The maximum value rises and falls smoothly, while the minimum seems to be a step function.  Neither\n",
    "trend seems particularly likely, so either there's a mistake in our calculations or something is\n",
    "wrong with our data.  This insight would have been difficult to reach by examining the numbers\n",
    "themselves without visualization tools."
   ]
  },
  {
   "cell_type": "markdown",
   "metadata": {},
   "source": [
    "\n",
    "<section class=\"callout panel panel-warning\">\n",
    "<div class=\"panel-heading\">\n",
    "<h2><span class=\"fa fa-thumb-tack\"></span> Scientists Dislike Typing</h2>\n",
    "</div>\n",
    "\n",
    "\n",
    "<div class=\"panel-body\">\n",
    "\n",
    "<p>We have just been importing NumPy and matplotlib using <code>import numpy</code> and <code>import matplotlib.pyplot</code>.</p>\n",
    "<p>From here on we are going to shorten these imports, you can either adopt this or continue using the long version. The reason we are going to start using the shortened versions is that that is the way that the majority of open source scientific python libraries use these imports, so we want to get you used to them now.</p>\n",
    "<p>When working with other people, it is important to agree on a convention of how common libraries\n",
    "are imported.</p>\n",
    "\n",
    "</div>\n",
    "\n",
    "</section>\n"
   ]
  },
  {
   "cell_type": "code",
   "execution_count": null,
   "metadata": {},
   "outputs": [],
   "source": []
  },
  {
   "cell_type": "markdown",
   "metadata": {},
   "source": [
    "### Grouping plots\n",
    "You can group similar plots in a single figure using subplots.\n",
    "This script below uses a number of new commands. The function `plt.figure()`\n",
    "creates a space into which we will place all of our plots. The parameter `figsize`\n",
    "tells Python how big to make this space. Each subplot is placed into the figure using\n",
    "its `add_subplot` method. The `add_subplot` method takes 3\n",
    "parameters. The first denotes how many total rows of subplots there are, the second parameter\n",
    "refers to the total number of subplot columns, and the final parameter denotes which subplot\n",
    "your variable is referencing (left-to-right, top-to-bottom). Each subplot is stored in a\n",
    "different variable (`axes1`, `axes2`, `axes3`). Once a subplot is created, the axes can\n",
    "be titled using the `set_xlabel()` command (or `set_ylabel()`).\n",
    "Here are our three plots side by side:"
   ]
  },
  {
   "cell_type": "code",
   "execution_count": null,
   "metadata": {},
   "outputs": [],
   "source": []
  },
  {
   "cell_type": "markdown",
   "metadata": {},
   "source": [
    "The call to `loadtxt` reads our data,\n",
    "and the rest of the program tells the plotting library\n",
    "how large we want the figure to be,\n",
    "that we're creating three subplots,\n",
    "what to draw for each one,\n",
    "and that we want a tight layout.\n",
    "(If we leave out that call to `fig.tight_layout()`,\n",
    "the graphs will actually be squeezed together more closely.)"
   ]
  },
  {
   "cell_type": "markdown",
   "metadata": {},
   "source": [
    "\n",
    "<section class=\"challenge panel panel-success\">\n",
    "<div class=\"panel-heading\">\n",
    "<h2><span class=\"fa fa-pencil\"></span> Challenge: Check Your Understanding</h2>\n",
    "</div>\n",
    "\n",
    "\n",
    "<div class=\"panel-body\">\n",
    "\n",
    "<p>What values do the variables <code>mass</code> and <code>age</code> have after each statement in the following program?\n",
    "Test your answers by executing the commands.</p>\n",
    "<div class=\"codehilite\"><pre><span></span><span class=\"n\">mass</span> <span class=\"o\">=</span> <span class=\"mf\">47.5</span>\n",
    "<span class=\"n\">age</span> <span class=\"o\">=</span> <span class=\"mi\">122</span>\n",
    "<span class=\"n\">mass</span> <span class=\"o\">=</span> <span class=\"n\">mass</span> <span class=\"o\">*</span> <span class=\"mf\">2.0</span>\n",
    "<span class=\"n\">age</span> <span class=\"o\">=</span> <span class=\"n\">age</span> <span class=\"o\">-</span> <span class=\"mi\">20</span>\n",
    "</pre></div>\n",
    "\n",
    "</div>\n",
    "\n",
    "</section>\n"
   ]
  },
  {
   "cell_type": "markdown",
   "metadata": {},
   "source": [
    "\n",
    "<section class=\"challenge panel panel-success\">\n",
    "<div class=\"panel-heading\">\n",
    "<h2><span class=\"fa fa-pencil\"></span> Challenge: Sorting Out References</h2>\n",
    "</div>\n",
    "\n",
    "\n",
    "<div class=\"panel-body\">\n",
    "\n",
    "<p>What does the following program print out?</p>\n",
    "<div class=\"codehilite\"><pre><span></span>first, second = &#39;Grace&#39;, &#39;Hopper&#39;\n",
    "third, fourth = second, first\n",
    "print(third, fourth)\n",
    "</pre></div>\n",
    "\n",
    "</div>\n",
    "\n",
    "</section>\n"
   ]
  },
  {
   "cell_type": "markdown",
   "metadata": {},
   "source": [
    "\n",
    "<section class=\"solution panel panel-primary\">\n",
    "<div class=\"panel-heading\">\n",
    "<h2><span class=\"fa fa-eye\"></span> Solution</h2>\n",
    "</div>\n",
    "\n",
    "\n",
    "<div class=\"panel-body\">\n",
    "\n",
    "<div class=\"codehilite\"><pre><span></span>Hopper Grace\n",
    "</pre></div>\n",
    "\n",
    "</div>\n",
    "\n",
    "</section>\n"
   ]
  },
  {
   "cell_type": "markdown",
   "metadata": {},
   "source": [
    "\n",
    "<section class=\"challenge panel panel-success\">\n",
    "<div class=\"panel-heading\">\n",
    "<h2><span class=\"fa fa-pencil\"></span> Challenge: Slicing Strings</h2>\n",
    "</div>\n",
    "\n",
    "\n",
    "<div class=\"panel-body\">\n",
    "\n",
    "<p>A section of an array is called a slice.\n",
    "We can take slices of character strings as well:</p>\n",
    "<div class=\"codehilite\"><pre><span></span><span class=\"n\">element</span> <span class=\"o\">=</span> <span class=\"s1\">&#39;oxygen&#39;</span>\n",
    "<span class=\"k\">print</span><span class=\"p\">(</span><span class=\"s1\">&#39;first three characters:&#39;</span><span class=\"p\">,</span> <span class=\"n\">element</span><span class=\"p\">[</span><span class=\"mi\">0</span><span class=\"p\">:</span><span class=\"mi\">3</span><span class=\"p\">])</span>\n",
    "<span class=\"k\">print</span><span class=\"p\">(</span><span class=\"s1\">&#39;last three characters:&#39;</span><span class=\"p\">,</span> <span class=\"n\">element</span><span class=\"p\">[</span><span class=\"mi\">3</span><span class=\"p\">:</span><span class=\"mi\">6</span><span class=\"p\">])</span>\n",
    "</pre></div>\n",
    "\n",
    "\n",
    "<div class=\"codehilite\"><pre><span></span>first three characters: oxy\n",
    "last three characters: gen\n",
    "</pre></div>\n",
    "\n",
    "\n",
    "<p>What is the value of <code>element[:4]</code>?\n",
    "What about <code>element[4:]</code>?\n",
    "Or <code>element[:]</code>?</p>\n",
    "\n",
    "</div>\n",
    "\n",
    "</section>\n"
   ]
  },
  {
   "cell_type": "markdown",
   "metadata": {},
   "source": [
    "\n",
    "<section class=\"solution panel panel-primary\">\n",
    "<div class=\"panel-heading\">\n",
    "<h2><span class=\"fa fa-eye\"></span> Solution</h2>\n",
    "</div>\n",
    "\n",
    "\n",
    "<div class=\"panel-body\">\n",
    "\n",
    "<div class=\"codehilite\"><pre><span></span>oxyg\n",
    "en\n",
    "oxygen\n",
    "</pre></div>\n",
    "\n",
    "</div>\n",
    "\n",
    "</section>\n"
   ]
  },
  {
   "cell_type": "markdown",
   "metadata": {},
   "source": [
    "\n",
    "<section class=\"challenge panel panel-success\">\n",
    "<div class=\"panel-heading\">\n",
    "<h2><span class=\"fa fa-pencil\"></span> Challenge:</h2>\n",
    "</div>\n",
    "\n",
    "\n",
    "<div class=\"panel-body\">\n",
    "\n",
    "<p>What is <code>element[-1]</code>?\n",
    "What is <code>element[-2]</code>?</p>\n",
    "\n",
    "</div>\n",
    "\n",
    "</section>\n"
   ]
  },
  {
   "cell_type": "markdown",
   "metadata": {},
   "source": [
    "\n",
    "<section class=\"solution panel panel-primary\">\n",
    "<div class=\"panel-heading\">\n",
    "<h2><span class=\"fa fa-eye\"></span> Solution</h2>\n",
    "</div>\n",
    "\n",
    "\n",
    "<div class=\"panel-body\">\n",
    "\n",
    "<div class=\"codehilite\"><pre><span></span>n\n",
    "e\n",
    "</pre></div>\n",
    "\n",
    "</div>\n",
    "\n",
    "</section>\n"
   ]
  },
  {
   "cell_type": "markdown",
   "metadata": {},
   "source": [
    "\n",
    "<section class=\"challenge panel panel-success\">\n",
    "<div class=\"panel-heading\">\n",
    "<h2><span class=\"fa fa-pencil\"></span> Challenge:</h2>\n",
    "</div>\n",
    "\n",
    "\n",
    "<div class=\"panel-body\">\n",
    "\n",
    "<p>Given those answers, explain what <code>element[1:-1]</code> does.</p>\n",
    "\n",
    "</div>\n",
    "\n",
    "</section>\n"
   ]
  },
  {
   "cell_type": "markdown",
   "metadata": {},
   "source": [
    "\n",
    "<section class=\"solution panel panel-primary\">\n",
    "<div class=\"panel-heading\">\n",
    "<h2><span class=\"fa fa-eye\"></span> Solution</h2>\n",
    "</div>\n",
    "\n",
    "\n",
    "<div class=\"panel-body\">\n",
    "\n",
    "<p>Creates a substring from index 1 up to (not including) the final index,\n",
    "effectively removing the first and last letters from 'oxygen'</p>\n",
    "\n",
    "</div>\n",
    "\n",
    "</section>\n"
   ]
  },
  {
   "cell_type": "markdown",
   "metadata": {},
   "source": [
    "\n",
    "<section class=\"challenge panel panel-success\">\n",
    "<div class=\"panel-heading\">\n",
    "<h2><span class=\"fa fa-pencil\"></span> Challenge:  Thin Slices</h2>\n",
    "</div>\n",
    "\n",
    "\n",
    "<div class=\"panel-body\">\n",
    "\n",
    "<p>The expression <code>element[3:3]</code> produces an empty string,\n",
    "i.e., a string that contains no characters.\n",
    "If <code>data</code> holds our array of patient data,\n",
    "what does <code>data[3:3, 4:4]</code> produce?\n",
    "What about <code>data[3:3, :]</code>?</p>\n",
    "\n",
    "</div>\n",
    "\n",
    "</section>\n"
   ]
  },
  {
   "cell_type": "markdown",
   "metadata": {},
   "source": [
    "\n",
    "<section class=\"solution panel panel-primary\">\n",
    "<div class=\"panel-heading\">\n",
    "<h2><span class=\"fa fa-eye\"></span> Solution</h2>\n",
    "</div>\n",
    "\n",
    "\n",
    "<div class=\"panel-body\">\n",
    "\n",
    "<div class=\"codehilite\"><pre><span></span>[]\n",
    "[]\n",
    "</pre></div>\n",
    "\n",
    "</div>\n",
    "\n",
    "</section>\n"
   ]
  },
  {
   "cell_type": "markdown",
   "metadata": {},
   "source": [
    "\n",
    "<section class=\"challenge panel panel-success\">\n",
    "<div class=\"panel-heading\">\n",
    "<h2><span class=\"fa fa-pencil\"></span> Challenge: Plot Scaling</h2>\n",
    "</div>\n",
    "\n",
    "\n",
    "<div class=\"panel-body\">\n",
    "\n",
    "<p>Why do all of our plots stop just short of the upper end of our graph?</p>\n",
    "\n",
    "</div>\n",
    "\n",
    "</section>\n"
   ]
  },
  {
   "cell_type": "markdown",
   "metadata": {},
   "source": [
    "\n",
    "<section class=\"solution panel panel-primary\">\n",
    "<div class=\"panel-heading\">\n",
    "<h2><span class=\"fa fa-eye\"></span> Solution</h2>\n",
    "</div>\n",
    "\n",
    "\n",
    "<div class=\"panel-body\">\n",
    "\n",
    "<p>Because matplotlib normally sets x and y axes limits to the min and max of our data\n",
    "(depending on data range)</p>\n",
    "<p>If we want to change this, we can use the <code>set_ylim(min, max)</code> method of each 'axes',\n",
    "for example:</p>\n",
    "<div class=\"codehilite\"><pre><span></span><span class=\"n\">axes3</span><span class=\"o\">.</span><span class=\"n\">set_ylim</span><span class=\"p\">(</span><span class=\"mi\">0</span><span class=\"p\">,</span><span class=\"mi\">6</span><span class=\"p\">)</span>\n",
    "</pre></div>\n",
    "\n",
    "</div>\n",
    "\n",
    "</section>\n"
   ]
  },
  {
   "cell_type": "markdown",
   "metadata": {},
   "source": [
    "\n",
    "<section class=\"challenge panel panel-success\">\n",
    "<div class=\"panel-heading\">\n",
    "<h2><span class=\"fa fa-pencil\"></span> Challenge:</h2>\n",
    "</div>\n",
    "\n",
    "\n",
    "<div class=\"panel-body\">\n",
    "\n",
    "<p>Update your plotting code to automatically set a more appropriate scale.\n",
    "(Hint: you can make use of the <code>max</code> and <code>min</code> methods to help.)</p>\n",
    "\n",
    "</div>\n",
    "\n",
    "</section>\n"
   ]
  },
  {
   "cell_type": "markdown",
   "metadata": {},
   "source": [
    "\n",
    "<section class=\"solution panel panel-primary\">\n",
    "<div class=\"panel-heading\">\n",
    "<h2><span class=\"fa fa-eye\"></span> Solution</h2>\n",
    "</div>\n",
    "\n",
    "\n",
    "<div class=\"panel-body\">\n",
    "\n",
    "<div class=\"codehilite\"><pre><span></span><span class=\"c1\"># One method</span>\n",
    "<span class=\"n\">axes3</span><span class=\"o\">.</span><span class=\"n\">set_ylabel</span><span class=\"p\">(</span><span class=\"s1\">&#39;min&#39;</span><span class=\"p\">)</span>\n",
    "<span class=\"n\">axes3</span><span class=\"o\">.</span><span class=\"n\">plot</span><span class=\"p\">(</span><span class=\"n\">numpy</span><span class=\"o\">.</span><span class=\"n\">min</span><span class=\"p\">(</span><span class=\"n\">data</span><span class=\"p\">,</span> <span class=\"n\">axis</span><span class=\"o\">=</span><span class=\"mi\">0</span><span class=\"p\">))</span>\n",
    "<span class=\"n\">axes3</span><span class=\"o\">.</span><span class=\"n\">set_ylim</span><span class=\"p\">(</span><span class=\"mi\">0</span><span class=\"p\">,</span><span class=\"mi\">6</span><span class=\"p\">)</span>\n",
    "</pre></div>\n",
    "\n",
    "\n",
    "<div class=\"codehilite\"><pre><span></span><span class=\"c1\"># A more automated approach</span>\n",
    "<span class=\"n\">min_data</span> <span class=\"o\">=</span> <span class=\"n\">numpy</span><span class=\"o\">.</span><span class=\"n\">min</span><span class=\"p\">(</span><span class=\"n\">data</span><span class=\"p\">,</span> <span class=\"n\">axis</span><span class=\"o\">=</span><span class=\"mi\">0</span><span class=\"p\">)</span>\n",
    "<span class=\"n\">axes3</span><span class=\"o\">.</span><span class=\"n\">set_ylabel</span><span class=\"p\">(</span><span class=\"s1\">&#39;min&#39;</span><span class=\"p\">)</span>\n",
    "<span class=\"n\">axes3</span><span class=\"o\">.</span><span class=\"n\">plot</span><span class=\"p\">(</span><span class=\"n\">min_data</span><span class=\"p\">)</span>\n",
    "<span class=\"n\">axes3</span><span class=\"o\">.</span><span class=\"n\">set_ylim</span><span class=\"p\">(</span><span class=\"n\">numpy</span><span class=\"o\">.</span><span class=\"n\">min</span><span class=\"p\">(</span><span class=\"n\">min_data</span><span class=\"p\">),</span> <span class=\"n\">numpy</span><span class=\"o\">.</span><span class=\"n\">max</span><span class=\"p\">(</span><span class=\"n\">min_data</span><span class=\"p\">)</span> <span class=\"o\">*</span> <span class=\"mf\">1.1</span><span class=\"p\">)</span>\n",
    "</pre></div>\n",
    "\n",
    "</div>\n",
    "\n",
    "</section>\n"
   ]
  },
  {
   "cell_type": "markdown",
   "metadata": {},
   "source": [
    "\n",
    "<section class=\"challenge panel panel-success\">\n",
    "<div class=\"panel-heading\">\n",
    "<h2><span class=\"fa fa-pencil\"></span> Challenge: Drawing Straight Lines</h2>\n",
    "</div>\n",
    "\n",
    "\n",
    "<div class=\"panel-body\">\n",
    "\n",
    "<p>In the center and right subplots above, we expect all lines to look like step functions because\n",
    "non-integer value are not realistic for the minimum and maximum values. However, you can see\n",
    "that the lines are not always vertical or horizontal, and in particular the step function\n",
    "in the subplot on the right looks slanted. Why is this?</p>\n",
    "\n",
    "</div>\n",
    "\n",
    "</section>\n"
   ]
  },
  {
   "cell_type": "markdown",
   "metadata": {},
   "source": [
    "\n",
    "<section class=\"solution panel panel-primary\">\n",
    "<div class=\"panel-heading\">\n",
    "<h2><span class=\"fa fa-eye\"></span> Solution</h2>\n",
    "</div>\n",
    "\n",
    "\n",
    "<div class=\"panel-body\">\n",
    "\n",
    "<p>Because matplotlib interpolates (draws a straight line) between the points.\n",
    "One way to do avoid this is to use the Matplotlib <code>drawstyle</code> option:</p>\n",
    "\n",
    "</div>\n",
    "\n",
    "</section>\n"
   ]
  },
  {
   "cell_type": "code",
   "execution_count": null,
   "metadata": {},
   "outputs": [],
   "source": []
  },
  {
   "cell_type": "markdown",
   "metadata": {},
   "source": [
    "\n",
    "<section class=\"challenge panel panel-success\">\n",
    "<div class=\"panel-heading\">\n",
    "<h2><span class=\"fa fa-pencil\"></span> Challenge: Make Your Own Plot</h2>\n",
    "</div>\n",
    "\n",
    "\n",
    "<div class=\"panel-body\">\n",
    "\n",
    "<p>Create a plot showing the standard deviation (<code>numpy.std</code>)\n",
    "of the inflammation data for each day across all patients.</p>\n",
    "\n",
    "</div>\n",
    "\n",
    "</section>\n"
   ]
  },
  {
   "cell_type": "markdown",
   "metadata": {},
   "source": [
    "\n",
    "<section class=\"solution panel panel-primary\">\n",
    "<div class=\"panel-heading\">\n",
    "<h2><span class=\"fa fa-eye\"></span> Solution</h2>\n",
    "</div>\n",
    "\n",
    "</section>\n"
   ]
  },
  {
   "cell_type": "code",
   "execution_count": null,
   "metadata": {},
   "outputs": [],
   "source": []
  },
  {
   "cell_type": "markdown",
   "metadata": {},
   "source": [
    "\n",
    "<section class=\"challenge panel panel-success\">\n",
    "<div class=\"panel-heading\">\n",
    "<h2><span class=\"fa fa-pencil\"></span> Challenge: Moving Plots Around</h2>\n",
    "</div>\n",
    "\n",
    "\n",
    "<div class=\"panel-body\">\n",
    "\n",
    "<p>Modify the program to display the three plots on top of one another\n",
    "instead of side by side.</p>\n",
    "\n",
    "</div>\n",
    "\n",
    "</section>\n"
   ]
  },
  {
   "cell_type": "markdown",
   "metadata": {},
   "source": [
    "\n",
    "<section class=\"solution panel panel-primary\">\n",
    "<div class=\"panel-heading\">\n",
    "<h2><span class=\"fa fa-eye\"></span> Solution</h2>\n",
    "</div>\n",
    "\n",
    "</section>\n"
   ]
  },
  {
   "cell_type": "code",
   "execution_count": null,
   "metadata": {},
   "outputs": [],
   "source": []
  },
  {
   "cell_type": "markdown",
   "metadata": {},
   "source": [
    "## Stacking Arrays\n",
    "\n",
    "Arrays can be concatenated and stacked on top of one another,\n",
    "using NumPy's `vstack` and `hstack` functions for vertical and horizontal stacking, respectively.\n"
   ]
  },
  {
   "cell_type": "code",
   "execution_count": null,
   "metadata": {},
   "outputs": [],
   "source": []
  },
  {
   "cell_type": "markdown",
   "metadata": {},
   "source": [
    "\n",
    "<section class=\"challenge panel panel-success\">\n",
    "<div class=\"panel-heading\">\n",
    "<h2><span class=\"fa fa-pencil\"></span> Challenge:</h2>\n",
    "</div>\n",
    "\n",
    "\n",
    "<div class=\"panel-body\">\n",
    "\n",
    "<p>Write some additional code that slices the first and last columns of <code>A</code>,\n",
    "and stacks them into a 3x2 array.\n",
    "Make sure to <code>print</code> the results to verify your solution.</p>\n",
    "\n",
    "</div>\n",
    "\n",
    "</section>\n"
   ]
  },
  {
   "cell_type": "markdown",
   "metadata": {},
   "source": [
    "\n",
    "<section class=\"solution panel panel-primary\">\n",
    "<div class=\"panel-heading\">\n",
    "<h2><span class=\"fa fa-eye\"></span> Solution</h2>\n",
    "</div>\n",
    "\n",
    "\n",
    "<div class=\"panel-body\">\n",
    "\n",
    "<p>A 'gotcha' with array indexing is that singleton dimensions\n",
    "are dropped by default. That means <code>A[:, 0]</code> is a one dimensional\n",
    "array, which won't stack as desired. To preserve singleton dimensions,\n",
    "the index itself can be a slice or array. For example, <code>A[:, :1]</code> returns\n",
    "a two dimensional array with one singleton dimension (i.e. a column\n",
    "vector).</p>\n",
    "\n",
    "</div>\n",
    "\n",
    "</section>\n"
   ]
  },
  {
   "cell_type": "code",
   "execution_count": null,
   "metadata": {},
   "outputs": [],
   "source": []
  },
  {
   "cell_type": "markdown",
   "metadata": {},
   "source": [
    "\n",
    "<section class=\"solution panel panel-primary\">\n",
    "<div class=\"panel-heading\">\n",
    "<h2><span class=\"fa fa-eye\"></span> Solution</h2>\n",
    "</div>\n",
    "\n",
    "\n",
    "<div class=\"panel-body\">\n",
    "\n",
    "<p>An alternative way to achieve the same result is to use Numpy's\n",
    "delete function to remove the second column of A.</p>\n",
    "\n",
    "</div>\n",
    "\n",
    "</section>\n"
   ]
  },
  {
   "cell_type": "code",
   "execution_count": null,
   "metadata": {},
   "outputs": [],
   "source": []
  },
  {
   "cell_type": "markdown",
   "metadata": {},
   "source": [
    "## Change In Inflammation\n",
    "\n",
    "This patient data is _longitudinal_ in the sense that each row represents a\n",
    "series of observations relating to one individual.  This means that\n",
    "the change in inflammation over time is a meaningful concept.\n",
    "\n",
    "The `numpy.diff()` function takes a NumPy array and returns the\n",
    "differences between two successive values along a specified axis.  For\n",
    "example, a NumPy array that looks like this:\n"
   ]
  },
  {
   "cell_type": "markdown",
   "metadata": {},
   "source": [
    "```python\n",
    "npdiff = numpy.array([ 0,  2,  5,  9, 14])\n",
    "```\n",
    "\n",
    "Calling `numpy.diff(npdiff)` would do the following calculations and\n",
    "put the answers in another array.\n",
    "\n",
    "```python\n",
    "[ 2 - 0, 5 - 2, 9 - 5, 14 - 9 ]\n",
    "```\n",
    "\n",
    "```python\n",
    "numpy.diff(npdiff)\n",
    "```\n",
    "\n",
    "```python\n",
    "array([2, 3, 4, 5])\n",
    "```"
   ]
  },
  {
   "cell_type": "markdown",
   "metadata": {},
   "source": [
    "\n",
    "<section class=\"challenge panel panel-success\">\n",
    "<div class=\"panel-heading\">\n",
    "<h2><span class=\"fa fa-pencil\"></span> Challenge:</h2>\n",
    "</div>\n",
    "\n",
    "\n",
    "<div class=\"panel-body\">\n",
    "\n",
    "<p>Which axis would it make sense to use this function along?</p>\n",
    "\n",
    "</div>\n",
    "\n",
    "</section>\n"
   ]
  },
  {
   "cell_type": "markdown",
   "metadata": {},
   "source": [
    "\n",
    "<section class=\"solution panel panel-primary\">\n",
    "<div class=\"panel-heading\">\n",
    "<h2><span class=\"fa fa-eye\"></span> Solution</h2>\n",
    "</div>\n",
    "\n",
    "\n",
    "<div class=\"panel-body\">\n",
    "\n",
    "<p>Since the row axis (0) is patients, it does not make sense to get the\n",
    "difference between two arbitrary patients. The column axis (1) is in\n",
    "days, so the difference is the change in inflammation -- a meaningful\n",
    "concept.</p>\n",
    "\n",
    "</div>\n",
    "\n",
    "</section>\n"
   ]
  },
  {
   "cell_type": "code",
   "execution_count": null,
   "metadata": {},
   "outputs": [],
   "source": []
  },
  {
   "cell_type": "markdown",
   "metadata": {},
   "source": [
    "\n",
    "<section class=\"challenge panel panel-success\">\n",
    "<div class=\"panel-heading\">\n",
    "<h2><span class=\"fa fa-pencil\"></span> Challenge:</h2>\n",
    "</div>\n",
    "\n",
    "\n",
    "<div class=\"panel-body\">\n",
    "\n",
    "<p>If the shape of an individual data file is <code>(60, 40)</code> (60 rows and 40\n",
    "columns), what would the shape of the array be after you run the <code>diff()</code>\n",
    "function and why?</p>\n",
    "\n",
    "</div>\n",
    "\n",
    "</section>\n"
   ]
  },
  {
   "cell_type": "markdown",
   "metadata": {},
   "source": [
    "\n",
    "<section class=\"solution panel panel-primary\">\n",
    "<div class=\"panel-heading\">\n",
    "<h2><span class=\"fa fa-eye\"></span> Solution</h2>\n",
    "</div>\n",
    "\n",
    "\n",
    "<div class=\"panel-body\">\n",
    "\n",
    "<p>The shape will be <code>(60, 39)</code> because there is one fewer difference between\n",
    "columns than there are columns in the data.</p>\n",
    "\n",
    "</div>\n",
    "\n",
    "</section>\n"
   ]
  },
  {
   "cell_type": "markdown",
   "metadata": {},
   "source": [
    "\n",
    "<section class=\"challenge panel panel-success\">\n",
    "<div class=\"panel-heading\">\n",
    "<h2><span class=\"fa fa-pencil\"></span> Challenge:</h2>\n",
    "</div>\n",
    "\n",
    "\n",
    "<div class=\"panel-body\">\n",
    "\n",
    "<p>How would you find the largest change in inflammation for each patient? Does\n",
    "it matter if the change in inflammation is an increase or a decrease?</p>\n",
    "\n",
    "</div>\n",
    "\n",
    "</section>\n"
   ]
  },
  {
   "cell_type": "markdown",
   "metadata": {},
   "source": [
    "\n",
    "<section class=\"solution panel panel-primary\">\n",
    "<div class=\"panel-heading\">\n",
    "<h2><span class=\"fa fa-eye\"></span> Solution</h2>\n",
    "</div>\n",
    "\n",
    "\n",
    "<div class=\"panel-body\">\n",
    "\n",
    "<p>By using the <code>numpy.max()</code> function after you apply the <code>numpy.diff()</code>\n",
    "function, you will get the largest difference between days.</p>\n",
    "\n",
    "</div>\n",
    "\n",
    "</section>\n"
   ]
  },
  {
   "cell_type": "code",
   "execution_count": null,
   "metadata": {},
   "outputs": [],
   "source": []
  },
  {
   "cell_type": "markdown",
   "metadata": {},
   "source": [
    "\n",
    "<section class=\"challenge panel panel-success\">\n",
    "<div class=\"panel-heading\">\n",
    "<h2><span class=\"fa fa-pencil\"></span> Challenge:</h2>\n",
    "</div>\n",
    "\n",
    "\n",
    "<div class=\"panel-body\">\n",
    "\n",
    "<p>If inflammation values <em>decrease</em> along an axis, then the difference from\n",
    "one element to the next will be negative. If\n",
    "you are interested in the <strong>magnitude</strong> of the change and not the\n",
    "direction, the <code>numpy.absolute()</code> function will provide that.\n",
    "Notice the difference if you get the largest <em>absolute</em> difference\n",
    "between readings.</p>\n",
    "\n",
    "</div>\n",
    "\n",
    "</section>\n"
   ]
  },
  {
   "cell_type": "code",
   "execution_count": null,
   "metadata": {},
   "outputs": [],
   "source": []
  },
  {
   "cell_type": "markdown",
   "metadata": {},
   "source": [
    "---\n",
    "The material in this notebook is derived from the Software Carpentry lessons\n",
    "&copy; [Software Carpentry](http://software-carpentry.org/) under the terms\n",
    "of the [CC-BY 4.0](https://creativecommons.org/licenses/by/4.0/) license."
   ]
  }
 ],
 "metadata": {
  "kernelspec": {
   "display_name": "Python 3",
   "language": "python",
   "name": "python3"
  },
  "language_info": {
   "codemirror_mode": {
    "name": "ipython",
    "version": 3
   },
   "file_extension": ".py",
   "mimetype": "text/x-python",
   "name": "python",
   "nbconvert_exporter": "python",
   "pygments_lexer": "ipython3",
   "version": "3.6.5"
  },
  "name": "01-numpy.ipynb",
  "swc_attribution": true
 },
 "nbformat": 4,
 "nbformat_minor": 2
}
